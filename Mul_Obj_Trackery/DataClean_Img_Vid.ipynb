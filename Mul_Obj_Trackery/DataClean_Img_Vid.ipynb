{
 "cells": [
  {
   "cell_type": "markdown",
   "metadata": {},
   "source": [
    "# Simple CNN ( Kent Chiu )\n",
    "### Introduction\n"
   ]
  },
  {
   "cell_type": "code",
   "execution_count": 1,
   "metadata": {
    "collapsed": false
   },
   "outputs": [
    {
     "name": "stderr",
     "output_type": "stream",
     "text": [
      "Using Theano backend.\n",
      "DEBUG: nvcc STDOUT mod.cu\n",
      "   Creating library C:/Users/kentc/AppData/Local/Theano/compiledir_Windows-10-10.0.10586-Intel64_Family_6_Model_94_Stepping_3_GenuineIntel-2.7.11-64/tmp5apf9q/265abc51f7c376c224983485238ff1a5.lib and object C:/Users/kentc/AppData/Local/Theano/compiledir_Windows-10-10.0.10586-Intel64_Family_6_Model_94_Stepping_3_GenuineIntel-2.7.11-64/tmp5apf9q/265abc51f7c376c224983485238ff1a5.exp\n",
      "\n",
      "Using gpu device 0: GeForce GTX 970M (CNMeM is disabled, cuDNN 5103)\n",
      "C:\\Users\\kentc\\Anaconda2\\lib\\site-packages\\theano\\sandbox\\cuda\\__init__.py:600: UserWarning: Your cuDNN version is more recent than the one Theano officially supports. If you see any problems, try updating Theano or downgrading cuDNN to version 5.\n",
      "  warnings.warn(warn)\n"
     ]
    }
   ],
   "source": [
    "from __future__ import print_function\n",
    "import numpy as np\n",
    "np.random.seed(1337)  # for reproducibility\n",
    "\n",
    "import os, sys, progressbar, argparse \n",
    "import commentjson as json\n",
    "\n",
    "from imutils import paths\n",
    "from skimage.io import imread\n",
    "import imageio\n",
    "import cv2\n",
    "\n",
    "from ipywidgets import interact, interactive, fixed\n",
    "import ipywidgets as widgets\n",
    "import matplotlib.pyplot as plt\n",
    "%matplotlib inline\n",
    "\n",
    "\n",
    "from sklearn.cross_validation import KFold\n",
    "from sklearn.utils import shuffle\n",
    "from sklearn.cross_validation import train_test_split\n",
    "\n",
    "\n",
    "from keras.datasets import mnist\n",
    "from keras.models import Sequential\n",
    "from keras.layers import Dense, Dropout, Activation, Flatten\n",
    "from keras.layers import Convolution2D, MaxPooling2D\n",
    "from keras.utils import np_utils\n",
    "from keras.optimizers import SGD\n",
    "from keras.optimizers import Adam\n",
    "from keras.utils import np_utils\n",
    "from keras.models import model_from_json"
   ]
  },
  {
   "cell_type": "markdown",
   "metadata": {},
   "source": [
    "### Define CNN Architectures"
   ]
  },
  {
   "cell_type": "code",
   "execution_count": 2,
   "metadata": {
    "collapsed": false
   },
   "outputs": [],
   "source": [
    "\n",
    "def simpleCNN(nb_classes, nb_filters,nb_conv,nb_pool,img_rows,img_cols, Dense_Before_Out=32):\n",
    "    model = Sequential()\n",
    "    model.add(Convolution2D(nb_filters, nb_conv, nb_conv,\n",
    "                        border_mode='valid',\n",
    "                        input_shape=(1, img_rows, img_cols)))\n",
    "    model.add(Activation('relu'))\n",
    "    model.add(Convolution2D(nb_filters, nb_conv, nb_conv))\n",
    "    model.add(Activation('relu'))\n",
    "    model.add(MaxPooling2D(pool_size=(nb_pool, nb_pool)))\n",
    "    model.add(Dropout(0.2))\n",
    "    model.add(Flatten())\n",
    "    \n",
    "    model.add(Dense(Dense_Before_Out, init='lecun_uniform'))\n",
    "    model.add(Activation('tanh'))\n",
    "    \n",
    "    model.add(Dense(nb_classes, init='lecun_uniform'))\n",
    "    model.add(Activation('softmax'))\n",
    "    sgd = SGD(lr=1e-2, decay=1e-6, momentum=0.9, nesterov=True)\n",
    "    model.compile(loss='categorical_crossentropy',\n",
    "              optimizer=sgd,\n",
    "              metrics=['accuracy'])\n",
    "    return model\n",
    "\n",
    "def simpleCNN_2(nb_classes, nb_filters,nb_conv,nb_pool,img_rows,img_cols, Dense_Before_Out=32):\n",
    "    model = Sequential()\n",
    "    model.add(Convolution2D(nb_filters, nb_conv, nb_conv,\n",
    "                        border_mode='valid',\n",
    "                        input_shape=(1, img_rows, img_cols)))\n",
    "    model.add(Activation('tanh'))\n",
    "    model.add(Convolution2D(nb_filters, nb_conv, nb_conv))\n",
    "    model.add(Activation('tanh'))\n",
    "    model.add(MaxPooling2D(pool_size=(nb_pool, nb_pool)))\n",
    "    model.add(Dropout(0.2))\n",
    "    model.add(Flatten())\n",
    "    \n",
    "    model.add(Dense(10*Dense_Before_Out, init='lecun_uniform'))\n",
    "    model.add(Activation('tanh'))    \n",
    "    \n",
    "    model.add(Dense(Dense_Before_Out, init='lecun_uniform'))\n",
    "    model.add(Activation('tanh'))\n",
    "    \n",
    "    model.add(Dense(nb_classes, init='lecun_uniform'))\n",
    "    model.add(Activation('softmax'))\n",
    "    sgd = SGD(lr=1e-2, decay=1e-6, momentum=0.9, nesterov=True)\n",
    "    model.compile(loss='categorical_crossentropy',\n",
    "              optimizer=sgd,\n",
    "              metrics=['accuracy'])\n",
    "    return model"
   ]
  },
  {
   "cell_type": "markdown",
   "metadata": {},
   "source": [
    "# Clean the dataset \n",
    "## ImageFolder_Name\n",
    "\n"
   ]
  },
  {
   "cell_type": "code",
   "execution_count": 3,
   "metadata": {
    "collapsed": false
   },
   "outputs": [],
   "source": [
    "\n",
    "class Conf:\n",
    "    def __init__(self, confPath):\n",
    "        # load and store the configuration and update the object's dictionary\n",
    "        conf = json.loads(open(confPath).read())\n",
    "        self.__dict__.update(conf)\n",
    "\n",
    "    def __getitem__(self, k):\n",
    "        # return the value associated with the supplied key\n",
    "        return self.__dict__.get(k, None)\n",
    "    \n",
    "    \n",
    "def auto_resized(img,size):\n",
    "    '''size = (width,height)'''\n",
    "    size = tuple(size)\n",
    "    resize_img = cv2.resize(img, size, interpolation=cv2.INTER_LINEAR)\n",
    "    return resize_img\n",
    "\n",
    "\n",
    "def TrainFilePath(folderPath, constrain=None, **kargs):\n",
    "    '''\n",
    "    (1) Output filepath and calssName\n",
    "    (2) folderPath \n",
    "          --label_1\n",
    "           -- xxx.jpg\n",
    "    '''\n",
    "    assert folderPath[-1]!='/'\n",
    "    if constrain is None:\n",
    "        constrain = ('avi', 'mp4','png','jpg') \n",
    "    for (rootDir, dirNames, fileNames) in os.walk(folderPath):\n",
    "        for fileName in fileNames:\n",
    "            if fileName.split('.')[-1] in constrain:\n",
    "                yield (os.path.join(rootDir, fileName)) \n",
    "\n",
    "    \n",
    "def genTrX(filePath, resolution):\n",
    "    assert type(resolution) == tuple\n",
    "    img = auto_resized(imread(filePath),resolution)  #conf['sliding_size']\n",
    "    img = cv2.cvtColor(img, cv2.COLOR_RGB2GRAY)\n",
    "    return img\n",
    "\n",
    "\n",
    "\n",
    "def load_training(folderList):\n",
    "    TrY = []\n",
    "    TrX = []\n",
    "    TrY_template = np.eye(len(folderList))\n",
    "    for eyeId, folderPath in enumerate(folderList):\n",
    "        for imgPath in TrainFilePath(folderPath) :\n",
    "            TrY.append(TrY_template[eyeId])\n",
    "            TrX.append(genTrX(imgPath, (img_rows,img_cols)))\n",
    "    print (len(TrX))\n",
    "    return TrX, TrY\n",
    "\n",
    "def reshapeShuffle(TrX, TrY, img_rows, img_cols):\n",
    "    trainX = np.asarray(TrX, dtype = np.uint8)\n",
    "    trainX = trainX.reshape(trainX.shape[0], 1, img_rows, img_cols)\n",
    "    trainX = trainX.astype('float32')\n",
    "    trainY = np.asarray(TrY, dtype = np.float32)\n",
    "    # shuffle\n",
    "    trainX , trainY = shuffle(trainX,trainY)\n",
    "    print ('Train_X : ',trainX.shape,'Train_Y' ,trainY.shape)\n",
    "    return trainX , trainY"
   ]
  },
  {
   "cell_type": "markdown",
   "metadata": {},
   "source": [
    "## Configuration of data\n",
    "\n",
    "### Dataset\n",
    "##### [-]  SkewDriver D:\\2D_DataSet\\PureScrewDriver\n",
    "##### [-]  Hands D:\\2D_DataSet\\Rhand_v2\n",
    "##### [-]  D:\\2D_DataSet\\RHwithScrewDriver\n",
    "\n",
    "# Reflections \n",
    "### The complexity of Model depends on the Data\n",
    "### The less Complexity of the Model, the less the Epoch\n",
    "###\n"
   ]
  },
  {
   "cell_type": "code",
   "execution_count": 8,
   "metadata": {
    "collapsed": false
   },
   "outputs": [
    {
     "name": "stdout",
     "output_type": "stream",
     "text": [
      "151\n",
      "Train_X :  (151L, 1L, 80L, 80L) Train_Y (151L, 2L)\n"
     ]
    }
   ],
   "source": [
    "foler_list = ['D:\\\\2D_DataSet\\\\PureScrewDriver', 'D:\\\\2D_DataSet\\\\Rhand_v2']\n",
    "\n",
    "img_rows = 80\n",
    "img_cols = 80\n",
    "\n",
    "nb_classes = len(foler_list)\n",
    "\n",
    "batch_size = 1\n",
    "\n",
    "# EPOCH SENEITIVE ...\n",
    "nb_epoch = 5\n",
    "\n",
    "# number of convolutional filters to use\n",
    "nb_filters = 64\n",
    "# size of pooling area for max pooling\n",
    "nb_pool = 2\n",
    "# convolution kernel size\n",
    "nb_conv = 3\n",
    "\n",
    "##############\n",
    "# Clean Data # \n",
    "##############\n",
    "model = simpleCNN(nb_classes, nb_filters,nb_conv,nb_pool,img_rows,img_cols)\n",
    "model_2 = simpleCNN_2(nb_classes, nb_filters,nb_conv,nb_pool,img_rows,img_cols)\n",
    "TrX, TrY = load_training(foler_list)\n",
    "trainX , trainY = reshapeShuffle(TrX, TrY, img_rows, img_cols)\n",
    "\n",
    "\n",
    "\n",
    "\n",
    "# Tr_X, Te_X, Tr_Y, Te_Y = train_test_split(trainX, trainY, test_size=0.2, random_state=0)\n",
    "# print (\"Training and testing split was successful.\")\n"
   ]
  },
  {
   "cell_type": "markdown",
   "metadata": {},
   "source": [
    "### Training Model"
   ]
  },
  {
   "cell_type": "code",
   "execution_count": 12,
   "metadata": {
    "collapsed": true
   },
   "outputs": [],
   "source": [
    "%%capture\n",
    "\n",
    "\n",
    "kf = KFold(len(trainY), n_folds=5)\n",
    "for train, test in kf:\n",
    "    Tr_X = trainX[train]\n",
    "    Te_X = trainX[test]\n",
    "    Tr_Y = trainY[train]\n",
    "    Te_Y = trainY[test]\n",
    "\n",
    "    #fit model and score\n",
    "    model.fit(Tr_X, Tr_Y, batch_size=batch_size, nb_epoch=nb_epoch,\n",
    "          verbose=1, validation_data=(Te_X, Te_Y))\n",
    "\n",
    "    "
   ]
  },
  {
   "cell_type": "markdown",
   "metadata": {},
   "source": [
    "### Evaluation Model"
   ]
  },
  {
   "cell_type": "code",
   "execution_count": 13,
   "metadata": {
    "collapsed": false
   },
   "outputs": [
    {
     "name": "stdout",
     "output_type": "stream",
     "text": [
      "Test score: 0.70562684536\n",
      "Test accuracy: 0.666666686535\n",
      "#######################################\n",
      "____________________________________________________________________________________________________\n",
      "Layer (type)                     Output Shape          Param #     Connected to                     \n",
      "====================================================================================================\n",
      "convolution2d_3 (Convolution2D)  (None, 64, 78, 78)    640         convolution2d_input_2[0][0]      \n",
      "____________________________________________________________________________________________________\n",
      "activation_5 (Activation)        (None, 64, 78, 78)    0           convolution2d_3[0][0]            \n",
      "____________________________________________________________________________________________________\n",
      "convolution2d_4 (Convolution2D)  (None, 64, 76, 76)    36928       activation_5[0][0]               \n",
      "____________________________________________________________________________________________________\n",
      "activation_6 (Activation)        (None, 64, 76, 76)    0           convolution2d_4[0][0]            \n",
      "____________________________________________________________________________________________________\n",
      "maxpooling2d_2 (MaxPooling2D)    (None, 64, 38, 38)    0           activation_6[0][0]               \n",
      "____________________________________________________________________________________________________\n",
      "dropout_2 (Dropout)              (None, 64, 38, 38)    0           maxpooling2d_2[0][0]             \n",
      "____________________________________________________________________________________________________\n",
      "flatten_2 (Flatten)              (None, 92416)         0           dropout_2[0][0]                  \n",
      "____________________________________________________________________________________________________\n",
      "dense_3 (Dense)                  (None, 32)            2957344     flatten_2[0][0]                  \n",
      "____________________________________________________________________________________________________\n",
      "activation_7 (Activation)        (None, 32)            0           dense_3[0][0]                    \n",
      "____________________________________________________________________________________________________\n",
      "dense_4 (Dense)                  (None, 2)             66          activation_7[0][0]               \n",
      "____________________________________________________________________________________________________\n",
      "activation_8 (Activation)        (None, 2)             0           dense_4[0][0]                    \n",
      "====================================================================================================\n",
      "Total params: 2994978\n",
      "____________________________________________________________________________________________________\n",
      "None\n"
     ]
    }
   ],
   "source": [
    "score = model.evaluate(Te_X, Te_Y, verbose=0)\n",
    "print('Test score:', score[0])\n",
    "print('Test accuracy:', score[1])\n",
    "print('#######################################')\n",
    "print(model.summary())\n",
    "\n",
    "# serialize model to JSON\n",
    "model_json = model.to_json()\n",
    "\n",
    "\n",
    "with open(\"model.json\", \"w\") as json_file:\n",
    "    json_file.write(model_json)"
   ]
  },
  {
   "cell_type": "markdown",
   "metadata": {},
   "source": [
    "### Further Interaction "
   ]
  },
  {
   "cell_type": "code",
   "execution_count": 14,
   "metadata": {
    "collapsed": false
   },
   "outputs": [
    {
     "name": "stdout",
     "output_type": "stream",
     "text": [
      "1/1 [==============================] - 0s\n",
      "[1] --><-- 0\n"
     ]
    },
    {
     "data": {
      "image/png": "[encoded data removed]",
      "text/plain": [
       "<matplotlib.figure.Figure at 0x330b17b8>"
      ]
     },
     "metadata": {},
     "output_type": "display_data"
    }
   ],
   "source": [
    "\n",
    "#print (Te_Y)\n",
    "\n",
    "from ipywidgets import interact, interactive, fixed\n",
    "from ipywidgets import widgets\n",
    "\n",
    "def f(x):\n",
    "    plt.imshow(Tr_X[x].reshape(img_rows,img_rows))\n",
    "    # print (model.predict(Tr_X[x].reshape(1,1,img_rows,img_rows)) )\n",
    "    print (model.predict_classes(Tr_X[x].reshape(1,1,img_rows,img_rows)) ,'--><--', np.argmax(Tr_Y[x]) )\n",
    "\n",
    "interact(f,x = 5)\n",
    "#for i in range(12):\n",
    "#    f(i)"
   ]
  },
  {
   "cell_type": "markdown",
   "metadata": {},
   "source": [
    "### Model Loading and Reuse"
   ]
  },
  {
   "cell_type": "code",
   "execution_count": null,
   "metadata": {
    "collapsed": true
   },
   "outputs": [],
   "source": [
    "# load json and create model\n",
    "json_file = open('model.json', 'r')\n",
    "loaded_model_json = json_file.read()\n",
    "json_file.close()\n",
    "loaded_model = model_from_json(loaded_model_json)\n",
    "\n",
    "loaded_model.compile(loss='binary_crossentropy', optimizer='rmsprop', metrics=['accuracy'])\n",
    "score = loaded_model.evaluate(X, Y, verbose=0)\n",
    "print \"%s: %.2f%%\" % (loaded_model.metrics_names[1], score[1]*100)"
   ]
  },
  {
   "cell_type": "markdown",
   "metadata": {},
   "source": [
    "# LOG\n",
    "\n",
    "- nb_filters = 32,64,128....etc\n",
    "- lr = 1e-2, 1e-3,1e-4\n",
    "\n",
    "- model.add(Activation('tanh'))\n",
    "- model.add(Activation('relu'))...etc\n",
    "- remove dropout\n",
    "- shrink the neurno size\n"
   ]
  },
  {
   "cell_type": "code",
   "execution_count": 89,
   "metadata": {
    "collapsed": false
   },
   "outputs": [],
   "source": [
    "\n",
    "from sklearn.cross_validation import train_test_split\n",
    "# loopover distraction_dir and slinding_window\n",
    "\n",
    "\n",
    "def TrainFilePath(folderList, constrain=None, **kargs ):\n",
    "    if constrain is None:\n",
    "        constrain = ('avi', 'mp4','png','jpg')\n",
    "    for basePath in folderList :\n",
    "        for (rootDir, dirNames, fileNames) in os.walk(basePath):\n",
    "            for fileName in fileNames:\n",
    "                if fileName.split('.')[-1] in constrain:\n",
    "                    yield os.path.join(rootDir, fileName), rootDir\n",
    "                    \n",
    "def sliding_window(image, stepSize, winSize):\n",
    "    # slide a window across the image\n",
    "    for y in xrange(0, image.shape[0], stepSize):\n",
    "        for x in xrange(0, image.shape[1], stepSize):\n",
    "            # yield the current window\n",
    "                yield (x, y, image[y:y + winSize[1], x:x + winSize[0]])\n",
    "                \n",
    "                \n",
    "def pos_extract(conf):\n",
    "    # grab the set of ground-truth images and select a percentage of them for training\n",
    "    trnPaths = list(paths.list_images(conf[\"pos_raw_ph\"]))\n",
    "    assert len(trnPaths)!=0\n",
    "    #\n",
    "    if not os.path.isdir(conf['pos_feat_ph']):\n",
    "        os.makedirs(conf['pos_feat_ph'])\n",
    "\n",
    "    # setup the progress bar\n",
    "    widgets = [\"Extracting: \", progressbar.Percentage(), \" \", progressbar.Bar(), \" \", progressbar.ETA()]\n",
    "    pbar = progressbar.ProgressBar(maxval=len(trnPaths), widgets=widgets).start()\n",
    "    for (i, imgPath) in enumerate(trnPaths):\n",
    "        # img = imread(imgPath)\n",
    "        # resize to the training resolution (wid,height)\n",
    "        img = auto_resized(imread(imgPath, as_grey=True),conf['sliding_size'])\n",
    "        ##############################################################################\n",
    "        ##############################################################################\n",
    "        ##############################################################################\n",
    "        ##############################################################################\n",
    "        ##############################################################################\n",
    "        ##############################################################################\n",
    "        fd=hog(img, conf['orientations'], conf['pixels_per_cell'], \n",
    "                    conf['cells_per_block'], conf['visualize'], conf['normalize'])\n",
    "        fd_name = os.path.split(imgPath)[1].split(\".\")[0] + \".feat\"\n",
    "        fd_path = os.path.join(conf['pos_feat_ph'], fd_name)\n",
    "        joblib.dump(fd, fd_path)\n",
    "        pbar.update(i)\n",
    "    pbar.finish()\n",
    "    print ('[*] Finished Pos.')\n",
    "\n",
    "\n",
    "def extract(conf):\n",
    "    # grab the set of ground-truth images and select a percentage of them for training\n",
    "    trnPaths = list(paths.list_images(conf[\"neg_raw_ph\"]))\n",
    "    assert len(trnPaths)!=0\n",
    "    #\n",
    "    if not os.path.isdir(conf['neg_feat_ph']):\n",
    "        os.makedirs(conf['neg_feat_ph'])\n",
    "    # setup the progress bar\n",
    "    widgets = [\"Extracting: \", progressbar.Percentage(), \" \",\n",
    "        progressbar.Bar(), \" \", progressbar.ETA()]\n",
    "    pbar = progressbar.ProgressBar(maxval=len(trnPaths), widgets=widgets).start()\n",
    "    for (i, imgPath) in enumerate(trnPaths):\n",
    "        # img = imread(imgPath)\n",
    "        # resize to the training resolution (wid,height)\n",
    "        img = auto_resized(imread(imgPath, as_grey=True),conf['train_resolution'])\n",
    "        #######################################################\n",
    "        # if some pos_img in neg_img with stationary position #\n",
    "        #######################################################\n",
    "        if conf['special_cover'] is not None:\n",
    "            print ('[*] Triggerd special_cover')\n",
    "            startX,startY,endX,endY = conf['special_cover']\n",
    "            cv2.rectangle(img, (startX-10,startY-10), (endX+10,endY+10), 0, -1) \n",
    "            #################################\n",
    "            # -1 = filled, 0 = outline only #\n",
    "            #################################\n",
    "        fd_id=0 #just a index for recording feature_file\n",
    "        for x,y,window in sliding_window(img, conf['step_size'],conf['sliding_size']):\n",
    "            if window.shape != tuple(conf['sliding_size']):\n",
    "                pass\n",
    "            else :\n",
    "                fd=hog(window, conf['orientations'], conf['pixels_per_cell'], \n",
    "                    conf['cells_per_block'], conf['visualize'], conf['normalize'])\n",
    "                fd_name = os.path.split(imgPath)[1].split(\".\")[0] +str(fd_id)+ \".feat\"\n",
    "                fd_path = os.path.join(conf['neg_feat_ph'], fd_name)\n",
    "                joblib.dump(fd, fd_path)\n",
    "                fd_id+=1\n",
    "        pbar.update(i)\n",
    "    pbar.finish()\n",
    "    print ('[*] Finished Neg.')\n"
   ]
  }
 ],
 "metadata": {
  "kernelspec": {
   "display_name": "Python 2",
   "language": "python",
   "name": "python2"
  },
  "language_info": {
   "codemirror_mode": {
    "name": "ipython",
    "version": 2
   },
   "file_extension": ".py",
   "mimetype": "text/x-python",
   "name": "python",
   "nbconvert_exporter": "python",
   "pygments_lexer": "ipython2",
   "version": "2.7.12"
  }
 },
 "nbformat": 4,
 "nbformat_minor": 0
}
